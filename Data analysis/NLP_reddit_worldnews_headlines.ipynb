{
  "cells": [
    {
      "metadata": {
        "_cell_guid": "61d9115b-91a7-4059-893c-d35d80429805",
        "_uuid": "6d5928889d800ffb8796ad21cd81297cd02c0879",
        "trusted": true
      },
      "cell_type": "code",
      "source": "# This Python 3 environment comes with many helpful analytics libraries installed\n# It is defined by the kaggle/python docker image: https://github.com/kaggle/docker-python\n# For example, here's several helpful packages to load in \n\nimport numpy as np # linear algebra\nimport pandas as pd # data processing, CSV file I/O (e.g. pd.read_csv)\n\n# Input data files are available in the \"../input/\" directory.\n# For example, running this (by clicking run or pressing Shift+Enter) will list the files in the input directory\n\nfrom subprocess import check_output\nprint(check_output([\"ls\", \"../input\"]).decode(\"utf8\"))\n\n\n\n# Any results you write to the current directory are saved as output.",
      "execution_count": 1,
      "outputs": [
        {
          "output_type": "stream",
          "text": "reddit_worldnews_start_to_2016-11-22.csv\n\n",
          "name": "stdout"
        }
      ]
    },
    {
      "metadata": {
        "_cell_guid": "5cde33f8-734c-44c1-8003-9b41caa146ba",
        "_uuid": "7d76e916b6050a7df7cc981f8af6f64fe9480da2"
      },
      "cell_type": "markdown",
      "source": "Credit to [Aleksey Bilogur](https://www.kaggle.com/residentmario/kernels) notebooks for inspiration"
    },
    {
      "metadata": {
        "_uuid": "c7f5b62242dbf14f44c7e4b73dacbccc4b92bebd"
      },
      "cell_type": "markdown",
      "source": "Lets start by importing the data and having a glimpse of the dataset"
    },
    {
      "metadata": {
        "collapsed": true,
        "_cell_guid": "bd4ee83e-3122-41bc-935c-4b5be018be63",
        "_uuid": "b82df860e453cda96b334f9e124cd88dd5c30136",
        "trusted": true
      },
      "cell_type": "code",
      "source": "data= pd.read_csv(\"../input/reddit_worldnews_start_to_2016-11-22.csv\")",
      "execution_count": 2,
      "outputs": []
    },
    {
      "metadata": {
        "_cell_guid": "8055f436-9fe6-428e-9893-3dd3eba9e041",
        "_uuid": "6c22411f54c165d154c9cb1d141cd888eb7c0c06",
        "trusted": true
      },
      "cell_type": "code",
      "source": "data.shape\n",
      "execution_count": 3,
      "outputs": [
        {
          "output_type": "execute_result",
          "execution_count": 3,
          "data": {
            "text/plain": "(509236, 8)"
          },
          "metadata": {}
        }
      ]
    },
    {
      "metadata": {
        "_uuid": "f844cb401b34b7d19e58bf2888da77332953813d"
      },
      "cell_type": "markdown",
      "source": "Columns in the dataset"
    },
    {
      "metadata": {
        "_cell_guid": "1d7ef9ab-c2b9-4d1c-a91e-ededafa8501e",
        "_uuid": "d4738fc64e7f0d507559eaf1e37dc545c0f37e79",
        "trusted": true
      },
      "cell_type": "code",
      "source": "data.columns",
      "execution_count": 4,
      "outputs": [
        {
          "output_type": "execute_result",
          "execution_count": 4,
          "data": {
            "text/plain": "Index(['time_created', 'date_created', 'up_votes', 'down_votes', 'title',\n       'over_18', 'author', 'subreddit'],\n      dtype='object')"
          },
          "metadata": {}
        }
      ]
    },
    {
      "metadata": {
        "_uuid": "3e85cec82af12e82ced7a33d372ebf7608715ecb"
      },
      "cell_type": "markdown",
      "source": "The columns and data type"
    },
    {
      "metadata": {
        "_cell_guid": "1ccd4e91-c95a-4f70-84e6-bb2ff9efd446",
        "_uuid": "91972057c287f4d70cbd46b8e5fa0a7f5ba31e71",
        "trusted": true
      },
      "cell_type": "code",
      "source": "data.dtypes",
      "execution_count": 5,
      "outputs": [
        {
          "output_type": "execute_result",
          "execution_count": 5,
          "data": {
            "text/plain": "time_created     int64\ndate_created    object\nup_votes         int64\ndown_votes       int64\ntitle           object\nover_18           bool\nauthor          object\nsubreddit       object\ndtype: object"
          },
          "metadata": {}
        }
      ]
    },
    {
      "metadata": {
        "_uuid": "96343147126fbf9cd8eb77bb1adb3bd0576e9417"
      },
      "cell_type": "markdown",
      "source": "A glimpse of the dataset rows and columns"
    },
    {
      "metadata": {
        "_cell_guid": "89c77d7e-17be-4e31-b417-4c0c754708d4",
        "_uuid": "bc1ea88e09ed8dfeaca99565b8006c48c08515bc",
        "trusted": true
      },
      "cell_type": "code",
      "source": "data.head()",
      "execution_count": 6,
      "outputs": [
        {
          "output_type": "execute_result",
          "execution_count": 6,
          "data": {
            "text/plain": "   time_created date_created  up_votes  down_votes  \\\n0    1201232046   2008-01-25         3           0   \n1    1201232075   2008-01-25         2           0   \n2    1201232523   2008-01-25         3           0   \n3    1201233290   2008-01-25         1           0   \n4    1201274720   2008-01-25         4           0   \n\n                                             title  over_18    author  \\\n0                Scores killed in Pakistan clashes    False     polar   \n1                 Japan resumes refuelling mission    False     polar   \n2                  US presses Egypt on Gaza border    False     polar   \n3     Jump-start economy: Give health care to all     False   fadi420   \n4  Council of Europe bashes EU&UN terror blacklist    False  mhermans   \n\n   subreddit  \n0  worldnews  \n1  worldnews  \n2  worldnews  \n3  worldnews  \n4  worldnews  ",
            "text/html": "<div>\n<style>\n    .dataframe thead tr:only-child th {\n        text-align: right;\n    }\n\n    .dataframe thead th {\n        text-align: left;\n    }\n\n    .dataframe tbody tr th {\n        vertical-align: top;\n    }\n</style>\n<table border=\"1\" class=\"dataframe\">\n  <thead>\n    <tr style=\"text-align: right;\">\n      <th></th>\n      <th>time_created</th>\n      <th>date_created</th>\n      <th>up_votes</th>\n      <th>down_votes</th>\n      <th>title</th>\n      <th>over_18</th>\n      <th>author</th>\n      <th>subreddit</th>\n    </tr>\n  </thead>\n  <tbody>\n    <tr>\n      <th>0</th>\n      <td>1201232046</td>\n      <td>2008-01-25</td>\n      <td>3</td>\n      <td>0</td>\n      <td>Scores killed in Pakistan clashes</td>\n      <td>False</td>\n      <td>polar</td>\n      <td>worldnews</td>\n    </tr>\n    <tr>\n      <th>1</th>\n      <td>1201232075</td>\n      <td>2008-01-25</td>\n      <td>2</td>\n      <td>0</td>\n      <td>Japan resumes refuelling mission</td>\n      <td>False</td>\n      <td>polar</td>\n      <td>worldnews</td>\n    </tr>\n    <tr>\n      <th>2</th>\n      <td>1201232523</td>\n      <td>2008-01-25</td>\n      <td>3</td>\n      <td>0</td>\n      <td>US presses Egypt on Gaza border</td>\n      <td>False</td>\n      <td>polar</td>\n      <td>worldnews</td>\n    </tr>\n    <tr>\n      <th>3</th>\n      <td>1201233290</td>\n      <td>2008-01-25</td>\n      <td>1</td>\n      <td>0</td>\n      <td>Jump-start economy: Give health care to all</td>\n      <td>False</td>\n      <td>fadi420</td>\n      <td>worldnews</td>\n    </tr>\n    <tr>\n      <th>4</th>\n      <td>1201274720</td>\n      <td>2008-01-25</td>\n      <td>4</td>\n      <td>0</td>\n      <td>Council of Europe bashes EU&amp;UN terror blacklist</td>\n      <td>False</td>\n      <td>mhermans</td>\n      <td>worldnews</td>\n    </tr>\n  </tbody>\n</table>\n</div>"
          },
          "metadata": {}
        }
      ]
    },
    {
      "metadata": {
        "_uuid": "f0356d138bb9a3bc3d62b640cb5471215f513636"
      },
      "cell_type": "markdown",
      "source": "Analysis starts here"
    },
    {
      "metadata": {
        "_uuid": "a8367c91becc5977772ed9a2d7e4294d276c088c"
      },
      "cell_type": "markdown",
      "source": "Posts with the most upvotes"
    },
    {
      "metadata": {
        "_cell_guid": "ec572bb0-b570-48f0-ba76-bf59428b47b3",
        "_uuid": "7dd2afef725c4bbe44f369518b526130e516db0e",
        "trusted": true
      },
      "cell_type": "code",
      "source": "data['up_votes'].sort_values(ascending=False).value_counts().head()",
      "execution_count": 8,
      "outputs": [
        {
          "output_type": "execute_result",
          "execution_count": 8,
          "data": {
            "text/plain": "0    93555\n1    46619\n2    44195\n3    36112\n4    29917\nName: up_votes, dtype: int64"
          },
          "metadata": {}
        }
      ]
    },
    {
      "metadata": {
        "_cell_guid": "08b660e3-a1da-40ba-98ac-d503e117381d",
        "_uuid": "ca4e94dfd11aea0e72744eb3c664f20097789132",
        "trusted": true
      },
      "cell_type": "code",
      "source": "data['down_votes'].sort_values(ascending=False).value_counts().head()",
      "execution_count": 9,
      "outputs": [
        {
          "output_type": "execute_result",
          "execution_count": 9,
          "data": {
            "text/plain": "0    509236\nName: down_votes, dtype: int64"
          },
          "metadata": {}
        }
      ]
    },
    {
      "metadata": {
        "_uuid": "7ee396f6a83bd4b3c41f3087b3c55bbdbfc6542a"
      },
      "cell_type": "markdown",
      "source": "we can see from above that they are no posts with downvotes"
    },
    {
      "metadata": {
        "_uuid": "7ff88eaed2eac727bb63b86bb68939fb6df5bea8"
      },
      "cell_type": "markdown",
      "source": "Let us check for most upoted headline"
    },
    {
      "metadata": {
        "_cell_guid": "9a036e61-0abc-4e3e-9b67-780e92ec133c",
        "_uuid": "ab8d91f38bef4aafb778e5aa3791226cd1ba753c",
        "trusted": true
      },
      "cell_type": "code",
      "source": "[title for title in data.sort_values('up_votes', ascending=False)['title'][:10]]",
      "execution_count": 10,
      "outputs": [
        {
          "output_type": "execute_result",
          "execution_count": 10,
          "data": {
            "text/plain": "['A biotech startup has managed to 3-D print fake rhino horns that carry the same genetic fingerprint as the actual horn. The company plans to flood Chinese rhino horn market at one-eighth of the price of the original, undercutting the price poachers can get and forcing them out eventually.',\n 'Twitter has forced 30 websites that archive politician s deleted tweets to shut down, removing an effective tool to keep politicians honest',\n '2.6 terabyte leak of Panamanian shell company data reveals  how a global industry led by major banks, legal firms, and asset management companies secretly manages the estates of politicians, Fifa officials, fraudsters and drug smugglers, celebrities and professional athletes. ',\n 'The police officer who leaked the footage of the surfers paradise police brutality, where the victims blood was washed away by officers, has been criminally charged for bringing it to the publics view. Officers who did the bashing get nothing.',\n 'Paris shooting survivor suing French media for giving away his location while he hid from shooters',\n 'Hundreds of thousands of leaked emails reveal massively widespread corruption in global oil industry',\n 'Brazil s Supreme Court has banned corporate contributions to political campaigns and parties',\n 'ISIS beheads 81-year-old pioneer archaeologist and foremost scholar on ancient Syria. Held captive for 1 month, he refused to tell ISIS the location of the treasures of Palmyra unto death.',\n 'Feeding cows seaweed could slash global greenhouse gas emissions, researchers say:  They discovered adding a small amount of dried seaweed to a cow s diet can reduce the amount of methane a cow produces by up to 99 per cent. ',\n 'Brazilian radio host famous for exposing corruption in his city murdered while broadcasting live on the air by two gunmen.']"
          },
          "metadata": {}
        }
      ]
    },
    {
      "metadata": {
        "_uuid": "b2756f2bb43aa62f736edad06be0a4610679a629"
      },
      "cell_type": "markdown",
      "source": "Let us look at the mean number of posts over a rolling window of 120 days"
    },
    {
      "metadata": {
        "_cell_guid": "1833c252-cd68-4d75-bfa7-ce2e7acedbe9",
        "_uuid": "2ef14503ce1fc4df9e4480cfa1c9a20417ac94a6",
        "trusted": true
      },
      "cell_type": "code",
      "source": "import seaborn as sns\n%matplotlib inline\nsns.set_style(\"dark\")\n\ndata.groupby('date_created')['up_votes'].mean().plot()\ndata.groupby('date_created')['up_votes'].mean().rolling(window=120).mean().plot(figsize= (12, 4))",
      "execution_count": 11,
      "outputs": [
        {
          "output_type": "execute_result",
          "execution_count": 11,
          "data": {
            "text/plain": "<matplotlib.axes._subplots.AxesSubplot at 0x7fcb44969198>"
          },
          "metadata": {}
        },
        {
          "output_type": "display_data",
          "data": {
            "text/plain": "<matplotlib.figure.Figure at 0x7fcb98159ba8>",
            "image/png": "[encoded data removed]"
          },
          "metadata": {}
        }
      ]
    },
    {
      "metadata": {
        "_uuid": "a863dead335182a97d1e4dcbe3c20153337bc5ad"
      },
      "cell_type": "markdown",
      "source": "Let us check how many stories were deemed to be over 18"
    },
    {
      "metadata": {
        "_cell_guid": "f349b34f-cbf2-42fa-816c-1ef36c9736d3",
        "_uuid": "720b4b08551ade1e003cb4b9d3ab4f3b8efdf464",
        "trusted": true
      },
      "cell_type": "code",
      "source": "data.over_18.value_counts()",
      "execution_count": 12,
      "outputs": [
        {
          "output_type": "execute_result",
          "execution_count": 12,
          "data": {
            "text/plain": "False    508916\nTrue        320\nName: over_18, dtype: int64"
          },
          "metadata": {}
        }
      ]
    },
    {
      "metadata": {
        "_uuid": "00249f0557edade8f4aa3c2fad88a0d7c8347a6e"
      },
      "cell_type": "markdown",
      "source": "320, let's explore the top 10 from over 18 stories"
    },
    {
      "metadata": {
        "_cell_guid": "0b824f0c-9bfe-4be0-9108-5714366887ff",
        "_uuid": "be48af84fa54e67f93297816b102a2ce5cf5f5ae",
        "trusted": true
      },
      "cell_type": "code",
      "source": "nsfwstory= data[data['over_18']== True]\n[story for story in nsfwstory.sort_values('up_votes', ascending=False)['title'][:10]]",
      "execution_count": 14,
      "outputs": [
        {
          "output_type": "execute_result",
          "execution_count": 14,
          "data": {
            "text/plain": "['Judge presiding over  El Chapo s  case shot, killed while jogging outside home',\n '[NSFL] Australian child molester Peter Scully faces death penalty in Philippines - Scully  filmed his torture and rape of young girls as he made them dig their own graves  and  laughed, joked and acted nonchalant about his alleged crimes ',\n 'Armed suspect shot dead after trying to storm Paris police station',\n 'Syria Army killed over 200 ISIS militants in 3-day long offensive in Deir Ezzor',\n 'Man escapes ISIS execution',\n 'ISIS massacre 14 Real Madrid fans at supporters club in Baghdad',\n 'The fight is on to stop an annual Chinese event which is expected to involve the slaughter of more than 10,000 dogs, some of whom are burned or boiled alive.',\n 'China: “Violent Government Thugs” Beaten To Death By Angry Crowds After They Killed A Man Documenting Their Brutality',\n 'ISIS commits largest massacre since Syrian conflict by dumping 280 dead in the river and taking 400 hostages',\n 'Video of riot police stripping detained protester naked in the snow at tempatures below 0 while taking pictures of him. Reports of police torture continue in Kyiv, Ukraine.']"
          },
          "metadata": {}
        }
      ]
    },
    {
      "metadata": {
        "_uuid": "68755eb3e3df87cd47d08d6c388559f27de0508e"
      },
      "cell_type": "markdown",
      "source": "But who is posting to r/worldnews?"
    },
    {
      "metadata": {
        "_cell_guid": "9393f2f9-0925-4752-a774-bd7dbc756a10",
        "_uuid": "da5109a524606754db8a7ac65db723569b4fa60f",
        "trusted": true
      },
      "cell_type": "code",
      "source": "attf= data.author.value_counts()[:20]\nattf.plot.bar(figsize= (12, 4))",
      "execution_count": 15,
      "outputs": [
        {
          "output_type": "execute_result",
          "execution_count": 15,
          "data": {
            "text/plain": "<matplotlib.axes._subplots.AxesSubplot at 0x7fcb449690b8>"
          },
          "metadata": {}
        },
        {
          "output_type": "display_data",
          "data": {
            "text/plain": "<matplotlib.figure.Figure at 0x7fcb5799a2b0>",
            "image/png": "[encoded data removed]"
          },
          "metadata": {}
        }
      ]
    },
    {
      "metadata": {
        "_uuid": "8b13926c71b8a6f79b9fe7fea987be82b0c4f9da"
      },
      "cell_type": "markdown",
      "source": "It looks like davidreiss666 is the top poster. Let us check the top 10 posts"
    },
    {
      "metadata": {
        "_cell_guid": "6879b6e0-1717-45ca-8483-8149387bff5c",
        "_uuid": "a1691d203d676595beb0857e402761df91e865ff",
        "trusted": true
      },
      "cell_type": "code",
      "source": "taff= data[data['author'] == \"davidreiss666\"]\n#taff.sort_values('up_votes', ascending= False)['title'].value_counts()\n[story for story in taff.sort_values('up_votes', ascending=False)['title'][:10]]\n#htaff= taff[taff['up_votes'] > 5]",
      "execution_count": 16,
      "outputs": [
        {
          "output_type": "execute_result",
          "execution_count": 16,
          "data": {
            "text/plain": "['The president of Indonesia, the world’s most populous Muslim-majority country, deemed the actions of the Islamic State in Iraq and Syria group “embarrassing” to the religion and called upon Muslim leaders to unite in tackling extremism',\n 'Study: Brazilian cops killed more than 11,000 people in 5 years',\n 'Chile rejects Patagonia wilderness dam project: The Chilean government has rejected a plan to build five hydroelectric dams on rivers in the south of the country. Its decision follows years of campaigning by environmentalists and local communities.',\n 'A 28-year-old Tunisian who was caught on security camera stealing from a man who had fallen onto the tracks on the Stockholm subway and then leaving him to be hit by a train was sentenced to prison, deportation',\n 'Armed men dressed in camouflage clothing have seized a police station in eastern Ukraine, officials say.',\n 'Slavery Still Exists:  Photographs of human trafficking and enslavement around the world',\n 'Commerzbank stops speculating on basic food prices: Germany s second-biggest lender, Commerzbank, says it will no longer participate in market speculation on basic food prices. The bank says it has removed all agricultural products from its funds for moral reasons.',\n 'Insecticide  unacceptable  danger to bees, report finds -- Campaigners say the conclusion by the European Food Safety Authority is a  death knell  for neonicotinoid pesticides',\n 'Berthold Beitz, a leading German industrialist who was credited with saving hundreds of Jews during World War II by employing them at the oil fields he managed in Nazi-occupied Poland, a rescue operation later compared to the more popularly known deeds of Oskar Schindler, died July 30. He was 99.',\n 'South Korea Warns North of Punishment Should War Declaration Go Beyond Words: South Korea s Ministry of National Defense has issued a statement calling on Pyongyang to stop making what it calls unacceptable threats.']"
          },
          "metadata": {}
        }
      ]
    },
    {
      "metadata": {
        "_uuid": "519407debaf78fe23db92a6a56217ce169cd710d"
      },
      "cell_type": "markdown",
      "source": "Let us find out how many times Obama, Hillary and Trump were mentioned from 2008 - 2016"
    },
    {
      "metadata": {
        "_cell_guid": "fc165c16-c746-4234-b989-0ff13f186c20",
        "_uuid": "57ef88bc0dcb5e695c18f45e73d73d88a2f95081",
        "trusted": true
      },
      "cell_type": "code",
      "source": "cand= ['Obama', 'Hillary', 'Trump']\nfor sole in cand:\n   print( data.title.str.contains(sole).value_counts(),sole )\n\n",
      "execution_count": 35,
      "outputs": [
        {
          "output_type": "stream",
          "text": "False    502932\nTrue       6304\nName: title, dtype: int64 Obama\nFalse    509016\nTrue        220\nName: title, dtype: int64 Hillary\nFalse    508745\nTrue        491\nName: title, dtype: int64 Trump\n",
          "name": "stdout"
        }
      ]
    },
    {
      "metadata": {
        "_cell_guid": "61c3ea78-c75a-4fb1-a35f-aab7f1ac5788",
        "_uuid": "5413ac768d7836e8118dc01171a822d41df9ade8",
        "trusted": true,
        "collapsed": true
      },
      "cell_type": "code",
      "source": "#data.title.str.contains('Trump').value_counts()",
      "execution_count": 36,
      "outputs": []
    },
    {
      "metadata": {
        "collapsed": true,
        "_cell_guid": "174d028e-f0df-407e-8474-14a3dc556243",
        "_uuid": "8c2d865bc21f075ec7f3eddcca5013e79a15fb22",
        "trusted": true
      },
      "cell_type": "code",
      "source": "from nltk import word_tokenize\ntokens = data.title.map(word_tokenize)\n\ndef tell_me_about(x):\n    x_l = x.lower()\n    x_t = x.title()\n    return data.loc[tokens.map(lambda sent: x_l in sent or x_t in sent).values]",
      "execution_count": 37,
      "outputs": []
    },
    {
      "metadata": {
        "_uuid": "ad3c7ed04743b29ad7ad6e18b4f8860de2bd0ecb"
      },
      "cell_type": "markdown",
      "source": "Have a glimpse of articles about Obama, Trump and Hilary"
    },
    {
      "metadata": {
        "_cell_guid": "4cc6231a-02ec-46b1-81a5-6f5f7c1857d4",
        "_uuid": "479aa14bcd7fa2087e9305221ed9712524e533ec",
        "trusted": true
      },
      "cell_type": "code",
      "source": "tell_me_about(\"Obama\")['title'].values.tolist()[:10]",
      "execution_count": 38,
      "outputs": [
        {
          "output_type": "execute_result",
          "execution_count": 38,
          "data": {
            "text/plain": "[' Barack Hussein Obama, Omar Bradley, Benjamin Franklin and other Semitically Named American Heroes - Thoughts on the Middle East, History, and Religion',\n 'Obama Campaign Skewers Clinton E-mail Statement',\n ' Europeans Would Probably Get along Best with Obama ',\n 'Remarks of Senator Barack Obama:  A More Perfect Union  (Direct Link)',\n 'Analysis of Obama s Speech',\n 'Clinton, Obama fight for key votes VIDEO',\n 'Obama inspires racial dialogue in churches',\n 'Muqtada al-Sadr: Iraq s Obama?   If his authority holds, he could be on his way to metamorphosing from a militant firebrand into a sober statesman capable of bridging Iraq s divisions. ',\n 'Is Obama an out of touch elitist?',\n 'Will Obama be our second anti-American president?']"
          },
          "metadata": {}
        }
      ]
    },
    {
      "metadata": {
        "_cell_guid": "d9ff5ae1-97f8-43b4-a50a-5b078924b9e5",
        "_uuid": "13ef14436e679db443b000229aaff86e0ec6c647",
        "trusted": true
      },
      "cell_type": "code",
      "source": "tell_me_about(\"Hilary\")['title'].values.tolist()[:10]",
      "execution_count": 39,
      "outputs": [
        {
          "output_type": "execute_result",
          "execution_count": 39,
          "data": {
            "text/plain": "['When a man LOVES a woman like Hilary',\n 'Hilary Clinton says North Korea has no friends, they call her a  primary schoolgirl.  Meanwhile, they both have nuclear weapons.',\n 'Hilary Clinton involves America in the Falklands dispute; backs Argentinean calls for talks over control of the Islands despite the wishes of the inhabitants to remain British',\n 'Hilary Clinton re: EGYPT -  Democracy, human rights and economic reform are in the best interests of the Egyptian people. ',\n 'Hilary Clinton says she supports Iranian protestors: ',\n 'Hilary Clinton chides Israels settlements as illegitimate while in the same breath, the US vetoes a UN resolution on condemning those same settlements as illegal. 14 to 1 against',\n 'Gaddafi s letter to Obama rebuffed by Hilary Clinton',\n 'SCAF  restraint  proves hollow as more Egypt protesters killed. Last night saw an escalation of violence by security forces using automatic weapons.\\r\\nUS Secretary of State Hilary Clinton described recent events as “shocking,” calling the behaviour of the security forces a “disgrace.”\\r\\n',\n 'US Secretary of State Hilary Clinton and  Egyptian Foreign Minster announce cease fire between Israel and Hamas',\n 'Obama, W. Bush and Hilary Clinton share flight to Mandela s funeral on Air Force One']"
          },
          "metadata": {}
        }
      ]
    },
    {
      "metadata": {
        "_cell_guid": "049aea63-4e58-43d2-9e7d-38dc2dd212b0",
        "_uuid": "6ca90eb89061957c3987b7a8cd21d645e5236949",
        "trusted": true
      },
      "cell_type": "code",
      "source": "tell_me_about(\"Donald\")['title'].values.tolist()[:10]",
      "execution_count": 40,
      "outputs": [
        {
          "output_type": "execute_result",
          "execution_count": 40,
          "data": {
            "text/plain": "['Donald Rumsfeld owns stock in the one company that owns Tamiflu one of the two effective antidotes against Swine Flu',\n 'Donald Sutherland look-a-like French genius found after three years',\n 'Green MP Caroline Lucas has joined the campaign to force US tycoon Donald Trump to change his plans to build a luxury golf course on the Aberdeenshire coast.',\n 'Scottish Explorer Donald Mackenzie Goes Missing on Quest to Find Noah s Ark',\n 'Donald Trump may run for US presidency in 2012',\n 'WikiLeaks: US Government Fights Brazil s on AID/HIV patents claimed by Donald Rumsfeld s company Gilead Sciences',\n 'Vietnam s Mammoth Cavern - Photo Gallery - A massive cave complex has been discovered in Vietnam and the pictures are incredible. This is the cave that Donald Trump would claim. It has a jungle. You can build a skyscraper in part of it. Waterfalls? Got those too. ',\n 'Polish PM accuses European leaders of hypocrisy:  New EU president Donald Tusk makes passionate defence of EU while warning against new Eurosceptic mood\\r\\n',\n 'Donald Trump in a huff over plans for windfarm near his Scottish golf resort',\n 'US tycoon Donald Trump s plea to Scotland s first minister over  ugly  wind farm to be built near his luxury golf resort']"
          },
          "metadata": {}
        }
      ]
    },
    {
      "metadata": {
        "_cell_guid": "e0c042a3-d380-462b-815d-a6c00791b20a",
        "_uuid": "39e84addf10670ee8606e770d77c7ed3fe7ba3d9",
        "trusted": true
      },
      "cell_type": "code",
      "source": "tell_me_about(\"Trump\")['title'].values.tolist()[:10]",
      "execution_count": 41,
      "outputs": [
        {
          "output_type": "execute_result",
          "execution_count": 41,
          "data": {
            "text/plain": "['N. Korea Angered By US Non-Commitment of Promise, Flashes Its Plutonium Capability Trump Card.',\n 'Trump to Miss California:  You re not fired! ',\n 'Wedding Photo | Ivanka Trump',\n 'Tripping up Trump. Scottish golf course project faces mass protest ',\n 'The Muslim Student Union should be suspended for disrupting a speech at UC Irvine by the Israeli ambassador. Its members need to learn that their freedom of speech does not trump that of other people.',\n 'Green MP Caroline Lucas has joined the campaign to force US tycoon Donald Trump to change his plans to build a luxury golf course on the Aberdeenshire coast.',\n 'Donald Trump may run for US presidency in 2012',\n 'Does Julian Assange Have A Trump Card Over The US Government?  Given Wikileaks two massive releases of sensitive data, the only rationale for his continued freedom is the power of the data he hasn t released ',\n 'Vietnam s Mammoth Cavern - Photo Gallery - A massive cave complex has been discovered in Vietnam and the pictures are incredible. This is the cave that Donald Trump would claim. It has a jungle. You can build a skyscraper in part of it. Waterfalls? Got those too. ',\n ' In case no one has noticed, Obama just gifted Lebanon to Iran. Washington earlier presented Iraq, Afghanistan, the Gulf and Pakistan. Could it be more clear that Iran’s strategic trump card is America’s  subservience  to Israel? ']"
          },
          "metadata": {}
        }
      ]
    },
    {
      "metadata": {
        "_uuid": "d43b404d25eed1c22334baff06ee95c15c6323bb"
      },
      "cell_type": "markdown",
      "source": "And for fun let's look at some headlines related to Apple Inc"
    },
    {
      "metadata": {
        "_cell_guid": "bd85f93a-5ada-4306-b1ce-1e0a7180d26b",
        "_uuid": "8b2665ebb900aaa1bdb02e782e92476d7b380437",
        "trusted": true
      },
      "cell_type": "code",
      "source": "tell_me_about(\"Apple\")['title'].values.tolist()[:10]",
      "execution_count": 42,
      "outputs": [
        {
          "output_type": "execute_result",
          "execution_count": 42,
          "data": {
            "text/plain": "['Apple “i” - Jobs’ style',\n 'vintage big apple',\n 'Man Arrested, Put In DNA Database For Allegedly Dropping Apple Core',\n 'Apple Executive Board Makes Room for Two More',\n 'Apple to Rogers on IPhone: you re on your own',\n 'World s poorest Apple fanboys need your help. ',\n 'Apple iPodagogy reaches Australia',\n 'Psystar Lawyers: Apple forgot to copyright OS X',\n 'The Odd Couple ATT and Apple',\n 'Steve Jobs taking a leave of absence from Apple']"
          },
          "metadata": {}
        }
      ]
    },
    {
      "metadata": {
        "collapsed": true,
        "_cell_guid": "6c94a00c-d26b-4325-908d-21981532b029",
        "_uuid": "60e5f69d80c734ab23cc57a6e4697607f4aae815",
        "trusted": false
      },
      "cell_type": "code",
      "source": "",
      "execution_count": null,
      "outputs": []
    }
  ],
  "metadata": {
    "kernelspec": {
      "display_name": "Python 3",
      "language": "python",
      "name": "python3"
    },
    "language_info": {
      "name": "python",
      "version": "3.6.4",
      "mimetype": "text/x-python",
      "codemirror_mode": {
        "name": "ipython",
        "version": 3
      },
      "pygments_lexer": "ipython3",
      "nbconvert_exporter": "python",
      "file_extension": ".py"
    }
  },
  "nbformat": 4,
  "nbformat_minor": 1
}